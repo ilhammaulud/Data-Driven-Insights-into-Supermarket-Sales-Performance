{
 "cells": [
  {
   "cell_type": "markdown",
   "id": "9f7b0b16",
   "metadata": {},
   "source": [
    "# 1. Import libraries"
   ]
  },
  {
   "cell_type": "code",
   "execution_count": 12,
   "id": "f5893286",
   "metadata": {},
   "outputs": [],
   "source": [
    "import pandas as pd\n",
    "import great_expectations as gx"
   ]
  },
  {
   "cell_type": "markdown",
   "id": "928e2e1b",
   "metadata": {},
   "source": [
    "# 2. Load Data"
   ]
  },
  {
   "cell_type": "code",
   "execution_count": 13,
   "id": "29d1ee34",
   "metadata": {},
   "outputs": [],
   "source": [
    "# Import data clean\n",
    "df = pd.read_csv('data/P2M3_ilham_maulud_data_clean.csv')\n",
    "\n",
    "context = gx.get_context()"
   ]
  },
  {
   "cell_type": "code",
   "execution_count": 14,
   "id": "425734bd",
   "metadata": {},
   "outputs": [],
   "source": [
    "data_source = context.data_sources.add_pandas(\"pandas\")\n",
    "data_asset = data_source.add_dataframe_asset(name=\"pd dataframe asset\")\n",
    "\n",
    "batch_definition = data_asset.add_batch_definition_whole_dataframe(\"batch definition\")\n",
    "batch = batch_definition.get_batch(batch_parameters={\"dataframe\": df})"
   ]
  },
  {
   "cell_type": "markdown",
   "id": "6fbf7f42",
   "metadata": {},
   "source": [
    "# 3. 7 Expectations "
   ]
  },
  {
   "cell_type": "markdown",
   "id": "7f8ae150",
   "metadata": {},
   "source": [
    "## 3.1 To be unique"
   ]
  },
  {
   "cell_type": "code",
   "execution_count": null,
   "id": "abfacfcf",
   "metadata": {},
   "outputs": [],
   "source": [
    "# Cek kolom invoice_id apakah unik atau tidak\n",
    "expect1 = gx.expectations.ExpectColumnValuesToBeUnique(column=\"invoice_id\")"
   ]
  },
  {
   "cell_type": "code",
   "execution_count": null,
   "id": "28265fea",
   "metadata": {},
   "outputs": [],
   "source": [
    "# Cek kolom total antara min dan max nya\n",
    "expect2 = gx.expectations.ExpectColumnValuesToBeBetween(column=\"total\", min_value=0)"
   ]
  },
  {
   "cell_type": "code",
   "execution_count": null,
   "id": "18ff8191",
   "metadata": {},
   "outputs": [],
   "source": [
    "# Memastikan semua nilai di kolom customer_type hanya berada didalam daftar tertentu\n",
    "expect3 = gx.expectations.ExpectColumnValuesToBeInSet(column=\"customer_type\", value_set=[\"Member\", \"Normal\"])"
   ]
  },
  {
   "cell_type": "code",
   "execution_count": null,
   "id": "01825709",
   "metadata": {},
   "outputs": [],
   "source": [
    "# Memastikan semua nilai di kolom quantity bertipe data integer\n",
    "expect4 = gx.expectations.ExpectColumnValuesToBeInTypeList(column=\"quantity\", type_list=[\"int\", \"int64\"])"
   ]
  },
  {
   "cell_type": "code",
   "execution_count": null,
   "id": "c573d168",
   "metadata": {},
   "outputs": [],
   "source": [
    "# Cek rentang di kolom rating\n",
    "expect5 = gx.expectations.ExpectColumnMeanToBeBetween(column=\"rating\", min_value=5, max_value=10)"
   ]
  },
  {
   "cell_type": "code",
   "execution_count": null,
   "id": "3d5166ed",
   "metadata": {},
   "outputs": [],
   "source": [
    "# Memastikan kolom unit_price tidak ada nilai kosong (null/NaN).\n",
    "expect6 = gx.expectations.ExpectColumnValuesToNotBeNull(column=\"unit_price\")"
   ]
  },
  {
   "cell_type": "code",
   "execution_count": null,
   "id": "38fee767",
   "metadata": {},
   "outputs": [],
   "source": [
    "# Memastikan median dari kolom quantity berada di antara 1 sampai 10.\n",
    "expect7 = gx.expectations.ExpectColumnMedianToBeBetween(column=\"quantity\", min_value=1, max_value=10)"
   ]
  },
  {
   "cell_type": "code",
   "execution_count": null,
   "id": "0810864d",
   "metadata": {},
   "outputs": [
    {
     "name": "stderr",
     "output_type": "stream",
     "text": [
      "Calculating Metrics: 100%|██████████| 10/10 [00:00<00:00, 422.25it/s]\n",
      "Calculating Metrics: 100%|██████████| 10/10 [00:00<00:00, 448.49it/s]\n",
      "Calculating Metrics: 100%|██████████| 10/10 [00:00<00:00, 618.51it/s]\n",
      "Calculating Metrics: 100%|██████████| 1/1 [00:00<00:00, 181.81it/s] \n",
      "Calculating Metrics: 100%|██████████| 4/4 [00:00<00:00, 305.08it/s]\n",
      "Calculating Metrics: 100%|██████████| 8/8 [00:00<00:00, 601.46it/s] "
     ]
    },
    {
     "name": "stderr",
     "output_type": "stream",
     "text": [
      "\n",
      "Calculating Metrics: 100%|██████████| 4/4 [00:00<00:00, 291.34it/s] "
     ]
    },
    {
     "name": "stdout",
     "output_type": "stream",
     "text": [
      "{\n",
      "  \"success\": true,\n",
      "  \"expectation_config\": {\n",
      "    \"type\": \"expect_column_values_to_be_unique\",\n",
      "    \"kwargs\": {\n",
      "      \"batch_id\": \"pandas-pd dataframe asset\",\n",
      "      \"column\": \"invoice_id\"\n",
      "    },\n",
      "    \"meta\": {}\n",
      "  },\n",
      "  \"result\": {\n",
      "    \"element_count\": 1000,\n",
      "    \"unexpected_count\": 0,\n",
      "    \"unexpected_percent\": 0.0,\n",
      "    \"partial_unexpected_list\": [],\n",
      "    \"missing_count\": 0,\n",
      "    \"missing_percent\": 0.0,\n",
      "    \"unexpected_percent_total\": 0.0,\n",
      "    \"unexpected_percent_nonmissing\": 0.0,\n",
      "    \"partial_unexpected_counts\": [],\n",
      "    \"partial_unexpected_index_list\": []\n",
      "  },\n",
      "  \"meta\": {},\n",
      "  \"exception_info\": {\n",
      "    \"raised_exception\": false,\n",
      "    \"exception_traceback\": null,\n",
      "    \"exception_message\": null\n",
      "  }\n",
      "}\n",
      "{\n",
      "  \"success\": true,\n",
      "  \"expectation_config\": {\n",
      "    \"type\": \"expect_column_values_to_be_between\",\n",
      "    \"kwargs\": {\n",
      "      \"batch_id\": \"pandas-pd dataframe asset\",\n",
      "      \"column\": \"total\",\n",
      "      \"min_value\": 0.0\n",
      "    },\n",
      "    \"meta\": {}\n",
      "  },\n",
      "  \"result\": {\n",
      "    \"element_count\": 1000,\n",
      "    \"unexpected_count\": 0,\n",
      "    \"unexpected_percent\": 0.0,\n",
      "    \"partial_unexpected_list\": [],\n",
      "    \"missing_count\": 0,\n",
      "    \"missing_percent\": 0.0,\n",
      "    \"unexpected_percent_total\": 0.0,\n",
      "    \"unexpected_percent_nonmissing\": 0.0,\n",
      "    \"partial_unexpected_counts\": [],\n",
      "    \"partial_unexpected_index_list\": []\n",
      "  },\n",
      "  \"meta\": {},\n",
      "  \"exception_info\": {\n",
      "    \"raised_exception\": false,\n",
      "    \"exception_traceback\": null,\n",
      "    \"exception_message\": null\n",
      "  }\n",
      "}\n",
      "{\n",
      "  \"success\": true,\n",
      "  \"expectation_config\": {\n",
      "    \"type\": \"expect_column_values_to_be_in_set\",\n",
      "    \"kwargs\": {\n",
      "      \"batch_id\": \"pandas-pd dataframe asset\",\n",
      "      \"column\": \"customer_type\",\n",
      "      \"value_set\": [\n",
      "        \"Member\",\n",
      "        \"Normal\"\n",
      "      ]\n",
      "    },\n",
      "    \"meta\": {}\n",
      "  },\n",
      "  \"result\": {\n",
      "    \"element_count\": 1000,\n",
      "    \"unexpected_count\": 0,\n",
      "    \"unexpected_percent\": 0.0,\n",
      "    \"partial_unexpected_list\": [],\n",
      "    \"missing_count\": 0,\n",
      "    \"missing_percent\": 0.0,\n",
      "    \"unexpected_percent_total\": 0.0,\n",
      "    \"unexpected_percent_nonmissing\": 0.0,\n",
      "    \"partial_unexpected_counts\": [],\n",
      "    \"partial_unexpected_index_list\": []\n",
      "  },\n",
      "  \"meta\": {},\n",
      "  \"exception_info\": {\n",
      "    \"raised_exception\": false,\n",
      "    \"exception_traceback\": null,\n",
      "    \"exception_message\": null\n",
      "  }\n",
      "}\n",
      "{\n",
      "  \"success\": true,\n",
      "  \"expectation_config\": {\n",
      "    \"type\": \"expect_column_values_to_be_in_type_list\",\n",
      "    \"kwargs\": {\n",
      "      \"batch_id\": \"pandas-pd dataframe asset\",\n",
      "      \"column\": \"quantity\",\n",
      "      \"type_list\": [\n",
      "        \"int\",\n",
      "        \"int64\"\n",
      "      ]\n",
      "    },\n",
      "    \"meta\": {}\n",
      "  },\n",
      "  \"result\": {\n",
      "    \"observed_value\": \"int64\"\n",
      "  },\n",
      "  \"meta\": {},\n",
      "  \"exception_info\": {\n",
      "    \"raised_exception\": false,\n",
      "    \"exception_traceback\": null,\n",
      "    \"exception_message\": null\n",
      "  }\n",
      "}\n",
      "{\n",
      "  \"success\": true,\n",
      "  \"expectation_config\": {\n",
      "    \"type\": \"expect_column_mean_to_be_between\",\n",
      "    \"kwargs\": {\n",
      "      \"batch_id\": \"pandas-pd dataframe asset\",\n",
      "      \"column\": \"rating\",\n",
      "      \"min_value\": 5.0,\n",
      "      \"max_value\": 10.0\n",
      "    },\n",
      "    \"meta\": {}\n",
      "  },\n",
      "  \"result\": {\n",
      "    \"observed_value\": 6.9727\n",
      "  },\n",
      "  \"meta\": {},\n",
      "  \"exception_info\": {\n",
      "    \"raised_exception\": false,\n",
      "    \"exception_traceback\": null,\n",
      "    \"exception_message\": null\n",
      "  }\n",
      "}\n",
      "{\n",
      "  \"success\": true,\n",
      "  \"expectation_config\": {\n",
      "    \"type\": \"expect_column_values_to_not_be_null\",\n",
      "    \"kwargs\": {\n",
      "      \"batch_id\": \"pandas-pd dataframe asset\",\n",
      "      \"column\": \"unit_price\"\n",
      "    },\n",
      "    \"meta\": {}\n",
      "  },\n",
      "  \"result\": {\n",
      "    \"element_count\": 1000,\n",
      "    \"unexpected_count\": 0,\n",
      "    \"unexpected_percent\": 0.0,\n",
      "    \"partial_unexpected_list\": [],\n",
      "    \"partial_unexpected_counts\": [],\n",
      "    \"partial_unexpected_index_list\": []\n",
      "  },\n",
      "  \"meta\": {},\n",
      "  \"exception_info\": {\n",
      "    \"raised_exception\": false,\n",
      "    \"exception_traceback\": null,\n",
      "    \"exception_message\": null\n",
      "  }\n",
      "}\n",
      "{\n",
      "  \"success\": true,\n",
      "  \"expectation_config\": {\n",
      "    \"type\": \"expect_column_median_to_be_between\",\n",
      "    \"kwargs\": {\n",
      "      \"batch_id\": \"pandas-pd dataframe asset\",\n",
      "      \"column\": \"quantity\",\n",
      "      \"min_value\": 1.0,\n",
      "      \"max_value\": 10.0\n",
      "    },\n",
      "    \"meta\": {}\n",
      "  },\n",
      "  \"result\": {\n",
      "    \"observed_value\": 5.0\n",
      "  },\n",
      "  \"meta\": {},\n",
      "  \"exception_info\": {\n",
      "    \"raised_exception\": false,\n",
      "    \"exception_traceback\": null,\n",
      "    \"exception_message\": null\n",
      "  }\n",
      "}\n"
     ]
    },
    {
     "name": "stderr",
     "output_type": "stream",
     "text": [
      "\n"
     ]
    }
   ],
   "source": [
    "# Cek hasil\n",
    "results = []\n",
    "for exp in [expect1, expect2, expect3, expect4, expect5, expect6, expect7]:\n",
    "    result = batch.validate(exp)\n",
    "    results.append(result)\n",
    "\n",
    "# Tampilkan hasil validasi\n",
    "for r in results:\n",
    "    print(r)"
   ]
  },
  {
   "cell_type": "markdown",
   "id": "7fa51e1f",
   "metadata": {},
   "source": [
    "Penjelasan output:\n",
    "\n",
    "1. invoice_id uniqueness\n",
    "\n",
    "Semua 1000 invoice ID unik, tidak ada duplikasi. Menandakan setiap transaksi tercatat dengan baik dan dapat dijadikan primary key.\n",
    "\n",
    "2. total values between 0 and above minimum 0\n",
    "\n",
    "Semua nilai total ≥ 0, tidak ada transaksi negatif. Valid untuk analisis penjualan dan perhitungan revenue.\n",
    "\n",
    "3. customer_type values in set [\"Member\", \"Normal\"]\n",
    "\n",
    "Semua nilai valid sesuai kategori yang diharapkan. Tidak ada typo atau nilai aneh, memudahkan segmentasi pelanggan.\n",
    "\n",
    "4. quantity values in type list [\"int\", \"int64\"]\n",
    "\n",
    "Semua nilai bertipe integer (int64). Memastikan kuantitas dapat dihitung, dijumlahkan, atau dianalisis tanpa error.\n",
    "\n",
    "5. rating mean between 5 dan 10\n",
    "\n",
    "Rata-rata rating pelanggan = 6.9727, berada dalam range yang diharapkan. Menunjukkan kepuasan pelanggan secara keseluruhan baik, tidak terlalu rendah.\n",
    "\n",
    "6. unit_price not null\n",
    "\n",
    "Tidak ada nilai kosong pada harga unit. Semua transaksi memiliki informasi harga, penting untuk perhitungan total dan revenue.\n",
    "\n",
    "7. quantity median between 1 dan 10\n",
    "\n",
    "Median quantity = 5, sesuai ekspektasi. Menunjukkan distribusi pembelian yang wajar, tidak ada anomali ekstrem.\n",
    "\n",
    "Kesimpulan dari output yang dihasilkan:\n",
    "\n",
    "Dataset sudah cukup bersih dan konsisten untuk dianalisis lebih lanjut. Tidak ada masalah besar seperti duplikasi ID, nilai kosong, atau tipe data yang salah. Hal ini membuat proses Exploratory Data Analysis (EDA) dan pembuatan dashboard di Kibana bisa dilakukan dengan lebih lancar dan hasilnya dapat diandalkan.\n"
   ]
  }
 ],
 "metadata": {
  "kernelspec": {
   "display_name": "py312",
   "language": "python",
   "name": "python3"
  },
  "language_info": {
   "codemirror_mode": {
    "name": "ipython",
    "version": 3
   },
   "file_extension": ".py",
   "mimetype": "text/x-python",
   "name": "python",
   "nbconvert_exporter": "python",
   "pygments_lexer": "ipython3",
   "version": "3.12.11"
  }
 },
 "nbformat": 4,
 "nbformat_minor": 5
}
