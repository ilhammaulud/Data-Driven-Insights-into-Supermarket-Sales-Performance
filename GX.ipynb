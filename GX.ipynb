{
 "cells": [
  {
   "cell_type": "markdown",
   "id": "9f7b0b16",
   "metadata": {},
   "source": [
    "# 1. Import libraries"
   ]
  },
  {
   "cell_type": "code",
   "execution_count": 12,
   "id": "f5893286",
   "metadata": {},
   "outputs": [],
   "source": [
    "import pandas as pd\n",
    "import great_expectations as gx"
   ]
  },
  {
   "cell_type": "markdown",
   "id": "928e2e1b",
   "metadata": {},
   "source": [
    "# 2. Load Data"
   ]
  },
  {
   "cell_type": "code",
   "execution_count": 13,
   "id": "29d1ee34",
   "metadata": {},
   "outputs": [],
   "source": [
    "# Import data clean\n",
    "df = pd.read_csv('data/P2M3_ilham_maulud_data_clean.csv')\n",
    "\n",
    "context = gx.get_context()"
   ]
  },
  {
   "cell_type": "code",
   "execution_count": 14,
   "id": "425734bd",
   "metadata": {},
   "outputs": [],
   "source": [
    "data_source = context.data_sources.add_pandas(\"pandas\")\n",
    "data_asset = data_source.add_dataframe_asset(name=\"pd dataframe asset\")\n",
    "\n",
    "batch_definition = data_asset.add_batch_definition_whole_dataframe(\"batch definition\")\n",
    "batch = batch_definition.get_batch(batch_parameters={\"dataframe\": df})"
   ]
  },
  {
   "cell_type": "markdown",
   "id": "6fbf7f42",
   "metadata": {},
   "source": [
    "# 3. 7 Expectations "
   ]
  },
  {
   "cell_type": "markdown",
   "id": "7f8ae150",
   "metadata": {},
   "source": [
    "## 3.1 To be unique"
   ]
  },
  {
   "cell_type": "code",
   "execution_count": null,
   "id": "abfacfcf",
   "metadata": {},
   "outputs": [],
   "source": [
    "# Check if the invoice_id column is unique or not\n",
    "expect1 = gx.expectations.ExpectColumnValuesToBeUnique(column=\"invoice_id\")"
   ]
  },
  {
   "cell_type": "code",
   "execution_count": null,
   "id": "28265fea",
   "metadata": {},
   "outputs": [],
   "source": [
    "# Check the total column between min and max\n",
    "expect2 = gx.expectations.ExpectColumnValuesToBeBetween(column=\"total\", min_value=0)"
   ]
  },
  {
   "cell_type": "code",
   "execution_count": null,
   "id": "18ff8191",
   "metadata": {},
   "outputs": [],
   "source": [
    "# Ensuring all values in the customer_type column are only within a specific list\n",
    "expect3 = gx.expectations.ExpectColumnValuesToBeInSet(column=\"customer_type\", value_set=[\"Member\", \"Normal\"])"
   ]
  },
  {
   "cell_type": "code",
   "execution_count": null,
   "id": "01825709",
   "metadata": {},
   "outputs": [],
   "source": [
    "# Ensuring all values in the quantity column are of integer data type\n",
    "expect4 = gx.expectations.ExpectColumnValuesToBeInTypeList(column=\"quantity\", type_list=[\"int\", \"int64\"])"
   ]
  },
  {
   "cell_type": "code",
   "execution_count": null,
   "id": "c573d168",
   "metadata": {},
   "outputs": [],
   "source": [
    "# Check the range in the rating column\n",
    "expect5 = gx.expectations.ExpectColumnMeanToBeBetween(column=\"rating\", min_value=5, max_value=10)"
   ]
  },
  {
   "cell_type": "code",
   "execution_count": null,
   "id": "3d5166ed",
   "metadata": {},
   "outputs": [],
   "source": [
    "# Ensuring the unit_price column does not contain empty values (null/NaN)\n",
    "expect6 = gx.expectations.ExpectColumnValuesToNotBeNull(column=\"unit_price\")"
   ]
  },
  {
   "cell_type": "code",
   "execution_count": null,
   "id": "38fee767",
   "metadata": {},
   "outputs": [],
   "source": [
    "# Ensuring the median of the quantity column is between 1 and 10\n",
    "expect7 = gx.expectations.ExpectColumnMedianToBeBetween(column=\"quantity\", min_value=1, max_value=10)"
   ]
  },
  {
   "cell_type": "code",
   "execution_count": null,
   "id": "0810864d",
   "metadata": {},
   "outputs": [
    {
     "name": "stderr",
     "output_type": "stream",
     "text": [
      "Calculating Metrics: 100%|██████████| 10/10 [00:00<00:00, 422.25it/s]\n",
      "Calculating Metrics: 100%|██████████| 10/10 [00:00<00:00, 448.49it/s]\n",
      "Calculating Metrics: 100%|██████████| 10/10 [00:00<00:00, 618.51it/s]\n",
      "Calculating Metrics: 100%|██████████| 1/1 [00:00<00:00, 181.81it/s] \n",
      "Calculating Metrics: 100%|██████████| 4/4 [00:00<00:00, 305.08it/s]\n",
      "Calculating Metrics: 100%|██████████| 8/8 [00:00<00:00, 601.46it/s] "
     ]
    },
    {
     "name": "stderr",
     "output_type": "stream",
     "text": [
      "\n",
      "Calculating Metrics: 100%|██████████| 4/4 [00:00<00:00, 291.34it/s] "
     ]
    },
    {
     "name": "stdout",
     "output_type": "stream",
     "text": [
      "{\n",
      "  \"success\": true,\n",
      "  \"expectation_config\": {\n",
      "    \"type\": \"expect_column_values_to_be_unique\",\n",
      "    \"kwargs\": {\n",
      "      \"batch_id\": \"pandas-pd dataframe asset\",\n",
      "      \"column\": \"invoice_id\"\n",
      "    },\n",
      "    \"meta\": {}\n",
      "  },\n",
      "  \"result\": {\n",
      "    \"element_count\": 1000,\n",
      "    \"unexpected_count\": 0,\n",
      "    \"unexpected_percent\": 0.0,\n",
      "    \"partial_unexpected_list\": [],\n",
      "    \"missing_count\": 0,\n",
      "    \"missing_percent\": 0.0,\n",
      "    \"unexpected_percent_total\": 0.0,\n",
      "    \"unexpected_percent_nonmissing\": 0.0,\n",
      "    \"partial_unexpected_counts\": [],\n",
      "    \"partial_unexpected_index_list\": []\n",
      "  },\n",
      "  \"meta\": {},\n",
      "  \"exception_info\": {\n",
      "    \"raised_exception\": false,\n",
      "    \"exception_traceback\": null,\n",
      "    \"exception_message\": null\n",
      "  }\n",
      "}\n",
      "{\n",
      "  \"success\": true,\n",
      "  \"expectation_config\": {\n",
      "    \"type\": \"expect_column_values_to_be_between\",\n",
      "    \"kwargs\": {\n",
      "      \"batch_id\": \"pandas-pd dataframe asset\",\n",
      "      \"column\": \"total\",\n",
      "      \"min_value\": 0.0\n",
      "    },\n",
      "    \"meta\": {}\n",
      "  },\n",
      "  \"result\": {\n",
      "    \"element_count\": 1000,\n",
      "    \"unexpected_count\": 0,\n",
      "    \"unexpected_percent\": 0.0,\n",
      "    \"partial_unexpected_list\": [],\n",
      "    \"missing_count\": 0,\n",
      "    \"missing_percent\": 0.0,\n",
      "    \"unexpected_percent_total\": 0.0,\n",
      "    \"unexpected_percent_nonmissing\": 0.0,\n",
      "    \"partial_unexpected_counts\": [],\n",
      "    \"partial_unexpected_index_list\": []\n",
      "  },\n",
      "  \"meta\": {},\n",
      "  \"exception_info\": {\n",
      "    \"raised_exception\": false,\n",
      "    \"exception_traceback\": null,\n",
      "    \"exception_message\": null\n",
      "  }\n",
      "}\n",
      "{\n",
      "  \"success\": true,\n",
      "  \"expectation_config\": {\n",
      "    \"type\": \"expect_column_values_to_be_in_set\",\n",
      "    \"kwargs\": {\n",
      "      \"batch_id\": \"pandas-pd dataframe asset\",\n",
      "      \"column\": \"customer_type\",\n",
      "      \"value_set\": [\n",
      "        \"Member\",\n",
      "        \"Normal\"\n",
      "      ]\n",
      "    },\n",
      "    \"meta\": {}\n",
      "  },\n",
      "  \"result\": {\n",
      "    \"element_count\": 1000,\n",
      "    \"unexpected_count\": 0,\n",
      "    \"unexpected_percent\": 0.0,\n",
      "    \"partial_unexpected_list\": [],\n",
      "    \"missing_count\": 0,\n",
      "    \"missing_percent\": 0.0,\n",
      "    \"unexpected_percent_total\": 0.0,\n",
      "    \"unexpected_percent_nonmissing\": 0.0,\n",
      "    \"partial_unexpected_counts\": [],\n",
      "    \"partial_unexpected_index_list\": []\n",
      "  },\n",
      "  \"meta\": {},\n",
      "  \"exception_info\": {\n",
      "    \"raised_exception\": false,\n",
      "    \"exception_traceback\": null,\n",
      "    \"exception_message\": null\n",
      "  }\n",
      "}\n",
      "{\n",
      "  \"success\": true,\n",
      "  \"expectation_config\": {\n",
      "    \"type\": \"expect_column_values_to_be_in_type_list\",\n",
      "    \"kwargs\": {\n",
      "      \"batch_id\": \"pandas-pd dataframe asset\",\n",
      "      \"column\": \"quantity\",\n",
      "      \"type_list\": [\n",
      "        \"int\",\n",
      "        \"int64\"\n",
      "      ]\n",
      "    },\n",
      "    \"meta\": {}\n",
      "  },\n",
      "  \"result\": {\n",
      "    \"observed_value\": \"int64\"\n",
      "  },\n",
      "  \"meta\": {},\n",
      "  \"exception_info\": {\n",
      "    \"raised_exception\": false,\n",
      "    \"exception_traceback\": null,\n",
      "    \"exception_message\": null\n",
      "  }\n",
      "}\n",
      "{\n",
      "  \"success\": true,\n",
      "  \"expectation_config\": {\n",
      "    \"type\": \"expect_column_mean_to_be_between\",\n",
      "    \"kwargs\": {\n",
      "      \"batch_id\": \"pandas-pd dataframe asset\",\n",
      "      \"column\": \"rating\",\n",
      "      \"min_value\": 5.0,\n",
      "      \"max_value\": 10.0\n",
      "    },\n",
      "    \"meta\": {}\n",
      "  },\n",
      "  \"result\": {\n",
      "    \"observed_value\": 6.9727\n",
      "  },\n",
      "  \"meta\": {},\n",
      "  \"exception_info\": {\n",
      "    \"raised_exception\": false,\n",
      "    \"exception_traceback\": null,\n",
      "    \"exception_message\": null\n",
      "  }\n",
      "}\n",
      "{\n",
      "  \"success\": true,\n",
      "  \"expectation_config\": {\n",
      "    \"type\": \"expect_column_values_to_not_be_null\",\n",
      "    \"kwargs\": {\n",
      "      \"batch_id\": \"pandas-pd dataframe asset\",\n",
      "      \"column\": \"unit_price\"\n",
      "    },\n",
      "    \"meta\": {}\n",
      "  },\n",
      "  \"result\": {\n",
      "    \"element_count\": 1000,\n",
      "    \"unexpected_count\": 0,\n",
      "    \"unexpected_percent\": 0.0,\n",
      "    \"partial_unexpected_list\": [],\n",
      "    \"partial_unexpected_counts\": [],\n",
      "    \"partial_unexpected_index_list\": []\n",
      "  },\n",
      "  \"meta\": {},\n",
      "  \"exception_info\": {\n",
      "    \"raised_exception\": false,\n",
      "    \"exception_traceback\": null,\n",
      "    \"exception_message\": null\n",
      "  }\n",
      "}\n",
      "{\n",
      "  \"success\": true,\n",
      "  \"expectation_config\": {\n",
      "    \"type\": \"expect_column_median_to_be_between\",\n",
      "    \"kwargs\": {\n",
      "      \"batch_id\": \"pandas-pd dataframe asset\",\n",
      "      \"column\": \"quantity\",\n",
      "      \"min_value\": 1.0,\n",
      "      \"max_value\": 10.0\n",
      "    },\n",
      "    \"meta\": {}\n",
      "  },\n",
      "  \"result\": {\n",
      "    \"observed_value\": 5.0\n",
      "  },\n",
      "  \"meta\": {},\n",
      "  \"exception_info\": {\n",
      "    \"raised_exception\": false,\n",
      "    \"exception_traceback\": null,\n",
      "    \"exception_message\": null\n",
      "  }\n",
      "}\n"
     ]
    },
    {
     "name": "stderr",
     "output_type": "stream",
     "text": [
      "\n"
     ]
    }
   ],
   "source": [
    "# Check the results\n",
    "results = []\n",
    "for exp in [expect1, expect2, expect3, expect4, expect5, expect6, expect7]:\n",
    "    result = batch.validate(exp)\n",
    "    results.append(result)\n",
    "\n",
    "# Show validation results\n",
    "for r in results:\n",
    "    print(r)"
   ]
  },
  {
   "cell_type": "markdown",
   "id": "7fa51e1f",
   "metadata": {},
   "source": [
    "Output explanation:\n",
    "\n",
    "1. Invoice ID uniqueness\n",
    "\n",
    "All 1000 invoice IDs are unique, there are no duplicates. Indicating that each transaction is properly recorded and can be used as a primary key.\n",
    "\n",
    "2. total values between 0 and above the minimum of 0\n",
    "\n",
    "All total values ≥ 0, no negative transactions. Valid for sales analysis and revenue calculation.\n",
    "\n",
    "3. customer_type values in set [\"Member\", \"Normal\"]\n",
    "\n",
    "All values are valid according to the expected categories. There are no typos or strange values, making customer segmentation easier.\n",
    "\n",
    "4. quantity values in type list [\"int\", \"int64\"]\n",
    "\n",
    "All values are of integer type (int64). Ensuring that the quantity can be counted, summed, or analyzed without error.\n",
    "\n",
    "5. rating mean between 5 and 10\n",
    "\n",
    "Average customer rating = 6.9727, which is within the expected range. Overall customer satisfaction is good, not too low.\n",
    "\n",
    "6. unit_price not null\n",
    "\n",
    "There are no blank values for the unit price. All transactions have price information, which is essential for total and revenue calculations.\n",
    "\n",
    "7. quantity median between 1 and 10\n",
    "\n",
    "Median quantity = 5, as expected. Shows a reasonable distribution of purchases, with no extreme anomalies.\n",
    "\n",
    "Conclusion from the generated output:\n",
    "\n",
    "The dataset is clean and consistent enough for further analysis. There were no major issues such as duplicate IDs, empty values, or incorrect data types. This made the Exploratory Data Analysis (EDA) process and dashboard creation in Kibana smoother and more reliable.\n"
   ]
  }
 ],
 "metadata": {
  "kernelspec": {
   "display_name": "py312",
   "language": "python",
   "name": "python3"
  },
  "language_info": {
   "codemirror_mode": {
    "name": "ipython",
    "version": 3
   },
   "file_extension": ".py",
   "mimetype": "text/x-python",
   "name": "python",
   "nbconvert_exporter": "python",
   "pygments_lexer": "ipython3",
   "version": "3.12.11"
  }
 },
 "nbformat": 4,
 "nbformat_minor": 5
}
